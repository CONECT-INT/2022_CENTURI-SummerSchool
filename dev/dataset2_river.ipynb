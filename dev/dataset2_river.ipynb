{
 "cells": [
  {
   "cell_type": "code",
   "execution_count": 3,
   "id": "be0c0daf-0a9b-429b-acd2-96ed6b17a545",
   "metadata": {},
   "outputs": [],
   "source": [
    "import os\n",
    "import mat73\n",
    "path = './'\n",
    "fname = os.path.join(path, 'Dataset2.mat')\n",
    "\n",
    "from scipy.io import loadmat\n",
    "DATA = mat73.loadmat(fname)"
   ]
  },
  {
   "cell_type": "code",
   "execution_count": 23,
   "id": "f20cb2f1-42a8-4358-9801-67f96841fa02",
   "metadata": {},
   "outputs": [],
   "source": [
    "import numpy as np"
   ]
  },
  {
   "cell_type": "code",
   "execution_count": 5,
   "id": "ef7a2230-8b4f-49bf-96b7-7a938658c845",
   "metadata": {},
   "outputs": [
    {
     "data": {
      "text/plain": [
       "dict_keys(['monkeyL', 'monkeyN'])"
      ]
     },
     "execution_count": 5,
     "metadata": {},
     "output_type": "execute_result"
    }
   ],
   "source": [
    "DATA.keys()"
   ]
  },
  {
   "cell_type": "code",
   "execution_count": 6,
   "id": "fbcceb8f-a2ca-4a84-9492-a8eae7128257",
   "metadata": {},
   "outputs": [
    {
     "name": "stdout",
     "output_type": "stream",
     "text": [
      "Variable   Type        Data/Info\n",
      "--------------------------------\n",
      "DATA       dict        n=2\n",
      "fname      str         ./Dataset2.mat\n",
      "loadmat    function    <function loadmat at 0x111603e60>\n",
      "mat73      module      <module 'mat73' from '/Us<...>kages/mat73/__init__.py'>\n",
      "os         module      <module 'os' from '/Users<...>da3/lib/python3.7/os.py'>\n",
      "path       str         ./\n"
     ]
    }
   ],
   "source": [
    "%whos"
   ]
  },
  {
   "cell_type": "code",
   "execution_count": 10,
   "id": "3c643520-873a-472b-8a6f-c63584336514",
   "metadata": {},
   "outputs": [
    {
     "data": {
      "text/plain": [
       "dict_keys(['MT', 'PT', 'RT', 'force', 'grip', 'neuron', 'spikes'])"
      ]
     },
     "execution_count": 10,
     "metadata": {},
     "output_type": "execute_result"
    }
   ],
   "source": [
    "DATA['monkeyL'].keys()"
   ]
  },
  {
   "cell_type": "code",
   "execution_count": 42,
   "id": "f5494c3e-27e9-4124-8348-244e071479f8",
   "metadata": {},
   "outputs": [],
   "source": [
    "nTime, nNeuron, nTrial = DATA['monkeyL']['spikes'].shape"
   ]
  },
  {
   "cell_type": "code",
   "execution_count": 73,
   "id": "189ca1b4-296b-4a82-b0fb-227d22a39d5c",
   "metadata": {},
   "outputs": [],
   "source": [
    "spikes = DATA['monkeyL']['spikes']"
   ]
  },
  {
   "cell_type": "code",
   "execution_count": 20,
   "id": "a9cf4023-f67c-4760-8130-05895c2433ed",
   "metadata": {},
   "outputs": [],
   "source": [
    "neurons = DATA['monkeyL']['neuron']"
   ]
  },
  {
   "cell_type": "code",
   "execution_count": 81,
   "id": "43bb7534-c199-4cfc-87e1-d05b7d245891",
   "metadata": {},
   "outputs": [],
   "source": [
    "grips = DATA['monkeyL']['grip']"
   ]
  },
  {
   "cell_type": "code",
   "execution_count": 33,
   "id": "a3bc0a9c-1e92-4158-9aa7-398915dbed8d",
   "metadata": {},
   "outputs": [],
   "source": [
    "import matplotlib.pyplot as plt"
   ]
  },
  {
   "cell_type": "markdown",
   "id": "1b9b7774-5604-4cde-94c7-5a3691d84677",
   "metadata": {},
   "source": [
    "# without smoothing"
   ]
  },
  {
   "cell_type": "code",
   "execution_count": 120,
   "id": "ffc1d5f3-095b-4bd4-9ea9-e06b2fa9db52",
   "metadata": {},
   "outputs": [
    {
     "name": "stdout",
     "output_type": "stream",
     "text": [
      "1.0\n",
      "0.0\n",
      "2.0\n",
      "0.0\n",
      "1.0\n",
      "0.0\n",
      "0.0\n",
      "0.0\n",
      "1.0\n",
      "1.0\n",
      "0.0\n",
      "0.0\n",
      "2.0\n",
      "0.0\n",
      "0.0\n",
      "0.0\n",
      "0.0\n",
      "0.0\n",
      "1.0\n",
      "0.0\n",
      "0.0\n",
      "1.0\n",
      "0.0\n",
      "2.0\n",
      "0.0\n",
      "1.0\n",
      "0.0\n",
      "1.0\n",
      "0.0\n",
      "0.0\n",
      "0.0\n",
      "1.0\n",
      "0.0\n",
      "0.0\n",
      "1.0\n",
      "0.0\n",
      "1.0\n",
      "1.0\n",
      "0.0\n",
      "0.0\n",
      "1.0\n",
      "0.0\n",
      "1.0\n",
      "0.0\n",
      "0.0\n",
      "0.0\n",
      "0.0\n",
      "0.0\n",
      "0.0\n",
      "0.0\n",
      "0.0\n",
      "0.0\n",
      "0.0\n",
      "0.0\n",
      "0.0\n",
      "0.0\n",
      "1.0\n",
      "1.0\n",
      "0.0\n",
      "2.0\n",
      "0.0\n",
      "0.0\n",
      "0.0\n",
      "0.0\n",
      "1.0\n",
      "1.0\n",
      "1.0\n",
      "0.0\n",
      "0.0\n",
      "0.0\n",
      "0.0\n",
      "0.0\n",
      "0.0\n",
      "0.0\n",
      "2.0\n",
      "0.0\n",
      "0.0\n",
      "0.0\n",
      "2.0\n",
      "0.0\n",
      "0.0\n",
      "0.0\n",
      "1.0\n",
      "0.0\n",
      "0.0\n",
      "0.0\n",
      "0.0\n",
      "0.0\n",
      "1.0\n",
      "0.0\n",
      "0.0\n",
      "1.0\n",
      "1.0\n",
      "0.0\n",
      "2.0\n",
      "0.0\n",
      "0.0\n",
      "0.0\n",
      "0.0\n",
      "0.0\n",
      "0.0\n",
      "1.0\n",
      "0.0\n",
      "0.0\n",
      "1.0\n",
      "0.0\n",
      "0.0\n",
      "0.0\n",
      "0.0\n",
      "0.0\n",
      "0.0\n",
      "0.0\n",
      "0.0\n",
      "0.0\n",
      "1.0\n",
      "0.0\n",
      "0.0\n",
      "0.0\n",
      "1.0\n",
      "0.0\n",
      "0.0\n",
      "0.0\n",
      "1.0\n",
      "2.0\n",
      "1.0\n",
      "1.0\n",
      "0.0\n",
      "1.0\n",
      "1.0\n",
      "0.0\n",
      "0.0\n",
      "0.0\n",
      "1.0\n",
      "0.0\n"
     ]
    }
   ],
   "source": [
    "for j in range(134):\n",
    "    s = 0\n",
    "    for i in range(20):\n",
    "        s = s + spikes[i][0][j]\n",
    "    print(s)"
   ]
  },
  {
   "cell_type": "code",
   "execution_count": 115,
   "id": "b6a59e1d-7dcf-4e81-80df-0ac14b8cee05",
   "metadata": {},
   "outputs": [
    {
     "data": {
      "text/plain": [
       "array([1., 0., 2., 0., 1., 0., 0., 0., 1., 1., 0., 0., 2., 0., 0., 0., 0.,\n",
       "       0., 1., 0., 0., 1., 0., 2., 0., 1., 0., 1., 0., 0., 0., 1., 0., 0.,\n",
       "       1., 0., 1., 1., 0., 0., 1., 0., 1., 0., 0., 0., 0., 0., 0., 0., 0.,\n",
       "       0., 0., 0., 0., 0., 1., 1., 0., 2., 0., 0., 0., 0., 1., 1., 1., 0.,\n",
       "       0., 0., 0., 0., 0., 0., 2., 0., 0., 0., 2., 0., 0., 0., 1., 0., 0.,\n",
       "       0., 0., 0., 1., 0., 0., 1., 1., 0., 2., 0., 0., 0., 0., 0., 0., 1.,\n",
       "       0., 0., 1., 0., 0., 0., 0., 0., 0., 0., 0., 0., 1., 0., 0., 0., 1.,\n",
       "       0., 0., 0., 1., 2., 1., 1., 0., 1., 1., 0., 0., 0., 1., 0.])"
      ]
     },
     "execution_count": 115,
     "metadata": {},
     "output_type": "execute_result"
    }
   ],
   "source": [
    "bin_spikes[0][0]"
   ]
  },
  {
   "cell_type": "code",
   "execution_count": 75,
   "id": "7ae71f40-61fc-4de0-8fc8-1c454c2dda99",
   "metadata": {},
   "outputs": [],
   "source": [
    "bin_spikes = spikes.reshape(int(5500/20), 20, 93, 134)\n",
    "bin_spikes = bin_spikes.sum(axis = 1)"
   ]
  },
  {
   "cell_type": "code",
   "execution_count": 77,
   "id": "583f2aae-cf3e-4613-8e22-9ec75f2272aa",
   "metadata": {},
   "outputs": [
    {
     "data": {
      "text/plain": [
       "(275, 93, 134)"
      ]
     },
     "execution_count": 77,
     "metadata": {},
     "output_type": "execute_result"
    }
   ],
   "source": [
    "bin_spikes.shape"
   ]
  },
  {
   "cell_type": "code",
   "execution_count": null,
   "id": "a3d89fe0-500a-43ac-b44b-ec6c6a11e5e8",
   "metadata": {},
   "outputs": [],
   "source": [
    "s_bin_spikes"
   ]
  },
  {
   "cell_type": "code",
   "execution_count": 121,
   "id": "e5118d9f-5264-4809-97e5-a1f4fa3c499e",
   "metadata": {},
   "outputs": [
    {
     "data": {
      "text/plain": [
       "array([1., 1., 1., 1., 1., 1., 1., 1., 1., 1., 1., 1., 1., 1., 1., 1., 1.,\n",
       "       1., 1., 1., 1., 1., 1., 1., 1., 1., 1., 1., 1., 1., 1., 1., 1., 1.,\n",
       "       1., 1., 1., 1., 1., 1., 1., 1., 1., 1., 1., 1., 1., 1., 1., 1., 1.,\n",
       "       1., 1., 1., 1., 1., 1., 1., 1., 1., 1., 1., 1., 1., 1., 1., 1., 1.,\n",
       "       1., 1., 2., 2., 2., 2., 2., 2., 2., 2., 2., 2., 2., 2., 2., 2., 2.,\n",
       "       2., 2., 2., 2., 2., 2., 2., 2., 2., 2., 2., 2., 2., 2., 2., 2., 2.,\n",
       "       2., 2., 2., 2., 2., 2., 2., 2., 2., 2., 2., 2., 2., 2., 2., 2., 2.,\n",
       "       2., 2., 2., 2., 2., 2., 2., 2., 2., 2., 2., 2., 2., 2., 2.])"
      ]
     },
     "execution_count": 121,
     "metadata": {},
     "output_type": "execute_result"
    }
   ],
   "source": [
    "grips"
   ]
  },
  {
   "cell_type": "code",
   "execution_count": 122,
   "id": "27201b09-9f08-477c-a80e-1a9ce9c1b11a",
   "metadata": {
    "tags": []
   },
   "outputs": [
    {
     "data": {
      "text/plain": [
       "64"
      ]
     },
     "execution_count": 122,
     "metadata": {},
     "output_type": "execute_result"
    }
   ],
   "source": [
    "(grips == 2).sum()"
   ]
  },
  {
   "cell_type": "code",
   "execution_count": 123,
   "id": "8716f155-e491-4fa6-8751-49ddf08498b6",
   "metadata": {},
   "outputs": [
    {
     "data": {
      "text/plain": [
       "(275, 93, 70)"
      ]
     },
     "execution_count": 123,
     "metadata": {},
     "output_type": "execute_result"
    }
   ],
   "source": [
    "SG_bin_spikes.shape"
   ]
  },
  {
   "cell_type": "code",
   "execution_count": 124,
   "id": "3a34740c-26b9-42c3-86f3-040747ce02ae",
   "metadata": {},
   "outputs": [],
   "source": [
    "SG_bin_spikes = bin_spikes[:,:,:70]\n",
    "PG_bin_spikes = bin_spikes[:,:,70:]"
   ]
  },
  {
   "cell_type": "code",
   "execution_count": 125,
   "id": "1a807d8c-01ac-4cbe-b0ee-e4873545c209",
   "metadata": {},
   "outputs": [],
   "source": [
    "trail_averaged_spikes_pn_SG = np.mean(SG_bin_spikes, axis = 2)\n",
    "trail_averaged_spikes_pn_PG = np.mean(PG_bin_spikes, axis = 2)"
   ]
  },
  {
   "cell_type": "code",
   "execution_count": 126,
   "id": "ad1e8302-e08f-4811-b084-a02d83b6e8e1",
   "metadata": {},
   "outputs": [
    {
     "data": {
      "text/plain": [
       "(275, 93)"
      ]
     },
     "execution_count": 126,
     "metadata": {},
     "output_type": "execute_result"
    }
   ],
   "source": [
    "trail_averaged_spikes_pn_SG .shape"
   ]
  },
  {
   "cell_type": "code",
   "execution_count": 131,
   "id": "b9d9b1ad-4eef-44b6-92c8-c5704c0e0deb",
   "metadata": {},
   "outputs": [
    {
     "data": {
      "text/plain": [
       "(93,)"
      ]
     },
     "execution_count": 131,
     "metadata": {},
     "output_type": "execute_result"
    }
   ],
   "source": [
    "trail_averaged_spikes_pn_PG[:,2].shape"
   ]
  },
  {
   "cell_type": "code",
   "execution_count": 132,
   "id": "e97bce95-f758-4935-a87d-517d88396b43",
   "metadata": {},
   "outputs": [
    {
     "data": {
      "text/plain": [
       "[<matplotlib.lines.Line2D at 0x11b8aa990>]"
      ]
     },
     "execution_count": 132,
     "metadata": {},
     "output_type": "execute_result"
    },
    {
     "data": {
      "image/png": "[encoded data removed]",
      "text/plain": [
       "<Figure size 432x288 with 1 Axes>"
      ]
     },
     "metadata": {
      "needs_background": "light"
     },
     "output_type": "display_data"
    }
   ],
   "source": [
    "plt.plot(trail_averaged_spikes_pn_SG[:,2])\n",
    "plt.plot(trail_averaged_spikes_pn_PG[:,2])"
   ]
  },
  {
   "cell_type": "markdown",
   "id": "7c1c5e97-f2d6-49ee-a1f4-9847089946a3",
   "metadata": {},
   "source": [
    "# Smoothing"
   ]
  },
  {
   "cell_type": "code",
   "execution_count": 38,
   "id": "bd9b4aaf-19b3-4033-91c0-cda37e41c3a3",
   "metadata": {},
   "outputs": [],
   "source": [
    "FWHM = 20"
   ]
  },
  {
   "cell_type": "code",
   "execution_count": 41,
   "id": "0002e570-1940-4f79-b2f0-67bb36c07009",
   "metadata": {},
   "outputs": [],
   "source": [
    "def fwhm2sigma(fwhm):\n",
    "    return fwhm / np.sqrt(8 * np.log(2))\n",
    "\n",
    "sigma = fwhm2sigma(FWHM)"
   ]
  },
  {
   "cell_type": "code",
   "execution_count": null,
   "id": "24f71ea7-e559-484e-92fe-e81bc71c2e7f",
   "metadata": {},
   "outputs": [],
   "source": []
  }
 ],
 "metadata": {
  "kernelspec": {
   "display_name": "Python 3",
   "language": "python",
   "name": "python3"
  },
  "language_info": {
   "codemirror_mode": {
    "name": "ipython",
    "version": 3
   },
   "file_extension": ".py",
   "mimetype": "text/x-python",
   "name": "python",
   "nbconvert_exporter": "python",
   "pygments_lexer": "ipython3",
   "version": "3.7.10"
  }
 },
 "nbformat": 4,
 "nbformat_minor": 5
}
